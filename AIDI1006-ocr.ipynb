{
 "cells": [
  {
   "cell_type": "code",
   "execution_count": 1,
   "id": "25e20e23",
   "metadata": {},
   "outputs": [
    {
     "name": "stdout",
     "output_type": "stream",
     "text": [
      "===== Read File - remote =====\n",
      "BEN MILLER\n",
      "[416.0, 42.0, 582.0, 43.0, 582.0, 68.0, 416.0, 67.0]\n",
      "Dearsam.\n",
      "[88.0, 167.0, 292.0, 169.0, 292.0, 215.0, 88.0, 212.0]\n",
      "Welcome onboard . I'm very excited to have you\n",
      "[125.0, 251.0, 891.0, 249.0, 892.0, 302.0, 125.0, 304.0]\n",
      "on our team for this project. your skills will\n",
      "[120.0, 313.0, 818.0, 308.0, 818.0, 360.0, 120.0, 364.0]\n",
      "certainly be a valued asset and I'm looking\n",
      "[122.0, 370.0, 805.0, 368.0, 805.0, 415.0, 122.0, 417.0]\n",
      "forward to seeing what you come up with\n",
      "[113.0, 427.0, 824.0, 427.0, 824.0, 470.0, 113.0, 472.0]\n",
      "Best,\n",
      "[86.0, 514.0, 235.0, 514.0, 235.0, 562.0, 86.0, 563.0]\n",
      "Ben\n",
      "[93.0, 570.0, 242.0, 571.0, 241.0, 613.0, 93.0, 611.0]\n",
      "\n"
     ]
    }
   ],
   "source": [
    "from azure.cognitiveservices.vision.computervision import ComputerVisionClient\n",
    "from azure.cognitiveservices.vision.computervision.models import OperationStatusCodes\n",
    "from azure.cognitiveservices.vision.computervision.models import VisualFeatureTypes\n",
    "from msrest.authentication import CognitiveServicesCredentials\n",
    "\n",
    "from array import array\n",
    "import os\n",
    "from PIL import Image\n",
    "import sys\n",
    "import time\n",
    "\n",
    "'''\n",
    "Authenticate\n",
    "Authenticates your credentials and creates a client.\n",
    "'''\n",
    "subscription_key = \"2cemQSrvr2KlcNyqBJHoj1CmxYn7aiX2wwtv6JcBtTon8Gi5KfQ4JQQJ99AKACYeBjFXJ3w3AAAFACOG0w7R\"\n",
    "endpoint = \"https://computersvission.cognitiveservices.azure.com/\"\n",
    "\n",
    "computervision_client = ComputerVisionClient(endpoint, CognitiveServicesCredentials(subscription_key))\n",
    "\n",
    "'''\n",
    "OCR: Read File using the Read API, extract text - remote\n",
    "This example will extract text in an image, then print results, line by line.\n",
    "This API call can also extract handwriting style text (not shown).\n",
    "'''\n",
    "print(\"===== Read File - remote =====\")\n",
    "# Get an image with text\n",
    "read_image_url = \"https://media.wired.com/photos/59327d3b44db296121d6b881/master/w_1600%2Cc_limit/bond_0011_Layer-5.jpg\"\n",
    "\n",
    "# Call API with URL and raw response (allows you to get the operation location)\n",
    "read_response = computervision_client.read(read_image_url,  raw=True)\n",
    "\n",
    "# Get the operation location (URL with an ID at the end) from the response\n",
    "read_operation_location = read_response.headers[\"Operation-Location\"]\n",
    "# Grab the ID from the URL\n",
    "operation_id = read_operation_location.split(\"/\")[-1]\n",
    "\n",
    "# Call the \"GET\" API and wait for it to retrieve the results \n",
    "while True:\n",
    "    read_result = computervision_client.get_read_result(operation_id)\n",
    "    if read_result.status not in ['notStarted', 'running']:\n",
    "        break\n",
    "    time.sleep(1)\n",
    "\n",
    "# Print the detected text, line by line\n",
    "if read_result.status == OperationStatusCodes.succeeded:\n",
    "    for text_result in read_result.analyze_result.read_results:\n",
    "        for line in text_result.lines:\n",
    "            print(line.text)\n",
    "            print(line.bounding_box)\n",
    "print()"
   ]
  },
  {
   "cell_type": "code",
   "execution_count": null,
   "id": "0f927a36",
   "metadata": {},
   "outputs": [],
   "source": []
  }
 ],
 "metadata": {
  "kernelspec": {
   "display_name": "base",
   "language": "python",
   "name": "python3"
  },
  "language_info": {
   "codemirror_mode": {
    "name": "ipython",
    "version": 3
   },
   "file_extension": ".py",
   "mimetype": "text/x-python",
   "name": "python",
   "nbconvert_exporter": "python",
   "pygments_lexer": "ipython3",
   "version": "3.12.4"
  }
 },
 "nbformat": 4,
 "nbformat_minor": 5
}
