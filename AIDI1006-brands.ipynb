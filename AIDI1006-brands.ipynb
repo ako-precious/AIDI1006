{
 "cells": [
  {
   "cell_type": "code",
   "execution_count": 2,
   "id": "f79e6320",
   "metadata": {},
   "outputs": [
    {
     "name": "stdout",
     "output_type": "stream",
     "text": [
      "===== Detect Brands - local =====\n",
      "Detecting brands in local image: \n",
      "'Tommy Hilfiger' brand detected with confidence 69.1% at location 215, 254, 146, 172\n",
      "\n",
      "===== Detect Brands - remote =====\n",
      "Detecting brands in remote image: \n",
      "'Starbucks' brand detected with confidence 78.2% at location 1470, 1818, 3, 278\n",
      "'Starbucks' brand detected with confidence 94.1% at location 427, 656, 576, 832\n",
      "\n"
     ]
    }
   ],
   "source": [
    "from azure.cognitiveservices.vision.computervision import ComputerVisionClient\n",
    "from azure.cognitiveservices.vision.computervision.models import OperationStatusCodes\n",
    "from azure.cognitiveservices.vision.computervision.models import VisualFeatureTypes\n",
    "from msrest.authentication import CognitiveServicesCredentials\n",
    "\n",
    "from array import array\n",
    "import os\n",
    "from PIL import Image\n",
    "import sys\n",
    "import time\n",
    "subscription_key = \"2cemQSrvr2KlcNyqBJHoj1CmxYn7aiX2wwtv6JcBtTon8Gi5KfQ4JQQJ99AKACYeBjFXJ3w3AAAFACOG0w7R\"\n",
    "endpoint = \"https://computersvission.cognitiveservices.azure.com/\"\n",
    "\n",
    "computervision_client = ComputerVisionClient(endpoint, CognitiveServicesCredentials(subscription_key))\n",
    "\n",
    "# Quickstart variables // These variables are shared by several examples\n",
    "#images_folder = os.path.join (os.path.dirname(os.path.abspath(__file__)), \"images\")\n",
    "images_folder = \"C:\\\\Users\\\\akopr\\\\OneDrive\\\\Documents\\\\codes\\\\python\\\\AIDI1006\\\\images\"\n",
    "remote_image_url = \"https://www.incimages.com/uploaded_files/image/1920x1080/GettyImages-71974463_431181.jpg\"\n",
    "\n",
    "'''\n",
    "Detect Brands - local\n",
    "This example detects common brands like logos and puts a bounding box around them.\n",
    "'''\n",
    "print(\"===== Detect Brands - local =====\")\n",
    "# Open image file\n",
    "local_image_path_shirt = os.path.join (images_folder, \"gray-shirt-logo.jpg\")\n",
    "local_image_shirt = open(local_image_path_shirt, \"rb\")\n",
    "# Select the visual feature(s) you want\n",
    "local_image_features = [\"brands\"]\n",
    "# Call API with image and features\n",
    "detect_brands_results_local = computervision_client.analyze_image_in_stream(local_image_shirt, local_image_features)\n",
    "\n",
    "# Print detection results with bounding box and confidence score\n",
    "print(\"Detecting brands in local image: \")\n",
    "if len(detect_brands_results_local.brands) == 0:\n",
    "    print(\"No brands detected.\")\n",
    "else:\n",
    "    for brand in detect_brands_results_local.brands:\n",
    "        print(\"'{}' brand detected with confidence {:.1f}% at location {}, {}, {}, {}\".format( \\\n",
    "        brand.name, brand.confidence * 100, brand.rectangle.x, brand.rectangle.x + brand.rectangle.w, \\\n",
    "        brand.rectangle.y, brand.rectangle.y + brand.rectangle.h))\n",
    "print()\n",
    "'''\n",
    "END - Detect brands - local\n",
    "'''\n",
    "\n",
    "# <snippet_brands>\n",
    "'''\n",
    "Detect Brands - remote\n",
    "This example detects common brands like logos and puts a bounding box around them.\n",
    "'''\n",
    "print(\"===== Detect Brands - remote =====\")\n",
    "# Get a URL with a brand logo\n",
    "remote_image_url = \"https://www.incimages.com/uploaded_files/image/1920x1080/GettyImages-71974463_431181.jpg\"\n",
    "# Select the visual feature(s) you want\n",
    "remote_image_features = [\"brands\"]\n",
    "# Call API with URL and features\n",
    "detect_brands_results_remote = computervision_client.analyze_image(remote_image_url, remote_image_features)\n",
    "\n",
    "print(\"Detecting brands in remote image: \")\n",
    "if len(detect_brands_results_remote.brands) == 0:\n",
    "    print(\"No brands detected.\")\n",
    "else:\n",
    "    for brand in detect_brands_results_remote.brands:\n",
    "        print(\"'{}' brand detected with confidence {:.1f}% at location {}, {}, {}, {}\".format( \\\n",
    "        brand.name, brand.confidence * 100, brand.rectangle.x, brand.rectangle.x + brand.rectangle.w, \\\n",
    "        brand.rectangle.y, brand.rectangle.y + brand.rectangle.h))\n",
    "# </snippet_brands>\n",
    "print()"
   ]
  },
  {
   "cell_type": "code",
   "execution_count": null,
   "id": "0fa6f3e6",
   "metadata": {},
   "outputs": [],
   "source": []
  }
 ],
 "metadata": {
  "kernelspec": {
   "display_name": "base",
   "language": "python",
   "name": "python3"
  },
  "language_info": {
   "codemirror_mode": {
    "name": "ipython",
    "version": 3
   },
   "file_extension": ".py",
   "mimetype": "text/x-python",
   "name": "python",
   "nbconvert_exporter": "python",
   "pygments_lexer": "ipython3",
   "version": "3.12.4"
  }
 },
 "nbformat": 4,
 "nbformat_minor": 5
}
