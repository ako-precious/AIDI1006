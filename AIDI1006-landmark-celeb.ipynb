{
 "cells": [
  {
   "cell_type": "code",
   "execution_count": 3,
   "id": "93f932e4",
   "metadata": {},
   "outputs": [
    {
     "name": "stdout",
     "output_type": "stream",
     "text": [
      "===== Detect Domain-specific Content - local =====\n",
      "Celebrities in the local image:\n",
      "\n",
      "Landmarks in the local image:\n",
      "Taj Mahal\n",
      "\n"
     ]
    }
   ],
   "source": [
    "from azure.cognitiveservices.vision.computervision import ComputerVisionClient\n",
    "from azure.cognitiveservices.vision.computervision.models import OperationStatusCodes\n",
    "from azure.cognitiveservices.vision.computervision.models import VisualFeatureTypes\n",
    "from msrest.authentication import CognitiveServicesCredentials\n",
    "\n",
    "from array import array\n",
    "import os\n",
    "from PIL import Image\n",
    "import sys\n",
    "import time\n",
    "\n",
    "subscription_key = \"2cemQSrvr2KlcNyqBJHoj1CmxYn7aiX2wwtv6JcBtTon8Gi5KfQ4JQQJ99AKACYeBjFXJ3w3AAAFACOG0w7R\"\n",
    "endpoint = \"https://computersvission.cognitiveservices.azure.com/\"\n",
    "\n",
    "computervision_client = ComputerVisionClient(endpoint, CognitiveServicesCredentials(subscription_key))\n",
    "\n",
    "# Quickstart variables // These variables are shared by several examples\n",
    "#images_folder = os.path.join (os.path.dirname(os.path.abspath(__file__)), \"images\")\n",
    "images_folder = \"C:\\\\Users\\\\akopr\\\\OneDrive\\\\Documents\\\\codes\\\\python\\\\AIDI1006\\\\images\"\n",
    "remote_image_url = \"https://homepages.cae.wisc.edu/~ece533/images/airplane.png\"\n",
    "local_landmark_path = \"C:\\\\Users\\\\akopr\\\\OneDrive\\\\Documents\\\\codes\\\\python\\\\AIDI1006\\\\images\\\\landmark7.jpg\"\n",
    "local_celeb_path = \"C:\\\\Users\\\\akopr\\\\OneDrive\\\\Documents\\\\codes\\\\python\\\\AIDI1006\\\\images\\\\celeb.jpg\"\n",
    "\n",
    "'''\n",
    "Detect Domain-specific Content - local\n",
    "This example detects celebrites and landmarks in local images.\n",
    "'''\n",
    "print(\"===== Detect Domain-specific Content - local =====\")\n",
    "# Open local image file containing a celebtriy\n",
    "local_image = open(local_celeb_path, \"rb\")\n",
    "# Call API with the type of content (celebrities) and local image\n",
    "# detect_domain_results_celebs_local = computervision_client.analyze_image_by_domain_in_stream(\"celebrities\", local_image)\n",
    "\n",
    "# Print which celebrities (if any) were detected\n",
    "print(\"Celebrities in the local image:\")\n",
    "# if len(detect_domain_results_celebs_local.result[\"celebrities\"]) == 0:\n",
    "#     print(\"No celebrities detected.\")\n",
    "# else:\n",
    "#     for celeb in detect_domain_results_celebs_local.result[\"celebrities\"]:\n",
    "#         print(celeb[\"name\"])\n",
    "\n",
    "# Open local image file containing a landmark\n",
    "local_image_path_landmark = os.path.join (images_folder, \"landmark2.jpeg\")\n",
    "local_image_landmark = open(local_landmark_path, \"rb\")\n",
    "# Call API with type of content (landmark) and local image\n",
    "detect_domain_results_landmark_local = computervision_client.analyze_image_by_domain_in_stream(\"landmarks\", local_image_landmark)\n",
    "print()\n",
    "\n",
    "# Print results of landmark detected\n",
    "print(\"Landmarks in the local image:\")\n",
    "if len(detect_domain_results_landmark_local.result[\"landmarks\"]) == 0:\n",
    "    print(\"No landmarks detected.\")\n",
    "else:\n",
    "    for landmark in detect_domain_results_landmark_local.result[\"landmarks\"]:\n",
    "        print(landmark[\"name\"])\n",
    "print()"
   ]
  },
  {
   "cell_type": "code",
   "execution_count": null,
   "id": "5478f6d4",
   "metadata": {},
   "outputs": [],
   "source": []
  }
 ],
 "metadata": {
  "kernelspec": {
   "display_name": "base",
   "language": "python",
   "name": "python3"
  },
  "language_info": {
   "codemirror_mode": {
    "name": "ipython",
    "version": 3
   },
   "file_extension": ".py",
   "mimetype": "text/x-python",
   "name": "python",
   "nbconvert_exporter": "python",
   "pygments_lexer": "ipython3",
   "version": "3.12.4"
  }
 },
 "nbformat": 4,
 "nbformat_minor": 5
}
