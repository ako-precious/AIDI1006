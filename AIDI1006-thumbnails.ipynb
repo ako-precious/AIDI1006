{
 "cells": [
  {
   "cell_type": "code",
   "execution_count": 1,
   "id": "f79e6320",
   "metadata": {},
   "outputs": [
    {
     "name": "stdout",
     "output_type": "stream",
     "text": [
      "===== Generate Thumbnail =====\n",
      "Generating thumbnail from a local image...\n",
      "Thumbnail saved to local folder.\n",
      "\n",
      "Generating thumbnail from a URL image...\n",
      "Thumbnail saved to local folder.\n",
      "\n"
     ]
    }
   ],
   "source": [
    "from azure.cognitiveservices.vision.computervision import ComputerVisionClient\n",
    "from azure.cognitiveservices.vision.computervision.models import OperationStatusCodes\n",
    "from azure.cognitiveservices.vision.computervision.models import VisualFeatureTypes\n",
    "from msrest.authentication import CognitiveServicesCredentials\n",
    "\n",
    "from array import array\n",
    "import os\n",
    "from PIL import Image\n",
    "import sys\n",
    "import time\n",
    "\n",
    "subscription_key = \"2cemQSrvr2KlcNyqBJHoj1CmxYn7aiX2wwtv6JcBtTon8Gi5KfQ4JQQJ99AKACYeBjFXJ3w3AAAFACOG0w7R\"\n",
    "endpoint = \"https://computersvission.cognitiveservices.azure.com/\"\n",
    "\n",
    "computervision_client = ComputerVisionClient(endpoint, CognitiveServicesCredentials(subscription_key))\n",
    "\n",
    "# Quickstart variables // These variables are shared by several examples\n",
    "#images_folder = os.path.join (os.path.dirname(os.path.abspath(__file__)), \"images\")\n",
    "images_folder = \"C:\\\\Users\\\\akopr\\\\OneDrive\\\\Documents\\\\codes\\\\python\\\\AIDI1006\\\\images\"\n",
    "remote_image_url = \"https://homepages.cae.wisc.edu/~ece533/images/airplane.png\"\n",
    "local_image_path_objects = \"C:\\\\Users\\\\akopr\\\\OneDrive\\\\Documents\\\\codes\\\\python\\\\AIDI1006\\\\images\\\\objects.jpg\" \n",
    "\n",
    "# Generate Thumbnail - This example creates a thumbnail from both a local and URL image.\n",
    "\n",
    "print(\"===== Generate Thumbnail =====\")\n",
    "\n",
    "# Generate a thumbnail from a local image\n",
    "local_image_path_thumb = os.path.join (images_folder, \"objects.jpg\")\n",
    "local_image_thumb = open(local_image_path_objects, \"rb\")\n",
    "\n",
    "print(\"Generating thumbnail from a local image...\")\n",
    "# Call the API with a local image, set the width/height if desired (pixels)\n",
    "# Returns a Generator object, a thumbnail image binary (list).\n",
    "thumb_local = computervision_client.generate_thumbnail_in_stream(100, 100, local_image_thumb, True)\n",
    "\n",
    "# Write the image binary to file\n",
    "with open(\"thumb_local.png\", \"wb\") as f:\n",
    "    for chunk in thumb_local:\n",
    "        f.write(chunk)\n",
    "\n",
    "# Uncomment/use this if you are writing many images as thumbnails from a list\n",
    "for i, image in enumerate(thumb_local, start=0):\n",
    "    with open('thumb_{0}.jpg'.format(i), 'wb') as f:\n",
    "        f.write(image)\n",
    "\n",
    "print(\"Thumbnail saved to local folder.\")\n",
    "print()\n",
    "\n",
    "# Generate a thumbnail from a URL image\n",
    "# URL of faces\n",
    "remote_image_url_thumb = \"https://raw.githubusercontent.com/Azure-Samples/cognitive-services-sample-data-files/master/ComputerVision/Images/faces.jpg\"\n",
    "\n",
    "print(\"Generating thumbnail from a URL image...\")\n",
    "# Returns a Generator object, a thumbnail image binary (list).\n",
    "thumb_remote = computervision_client.generate_thumbnail(\n",
    "    100, 100, remote_image_url_thumb, True)\n",
    "\n",
    "# Write the image binary to file\n",
    "with open(\"thumb_remote.png\", \"wb\") as f:\n",
    "    for chunk in thumb_remote:\n",
    "        f.write(chunk)\n",
    "\n",
    "print(\"Thumbnail saved to local folder.\")\n",
    "\n",
    "# Uncomment/use this if you are writing many images as thumbnails from a list\n",
    "for i, image in enumerate(thumb_remote, start=0):\n",
    "    with open('thumb_{0}.jpg'.format(i), 'wb') as f:\n",
    "        f.write(image)\n",
    "\n",
    "print()\n"
   ]
  },
  {
   "cell_type": "code",
   "execution_count": null,
   "id": "0fa6f3e6",
   "metadata": {},
   "outputs": [],
   "source": []
  },
  {
   "cell_type": "code",
   "execution_count": null,
   "id": "f3b3e6e8",
   "metadata": {},
   "outputs": [],
   "source": []
  }
 ],
 "metadata": {
  "kernelspec": {
   "display_name": "base",
   "language": "python",
   "name": "python3"
  },
  "language_info": {
   "codemirror_mode": {
    "name": "ipython",
    "version": 3
   },
   "file_extension": ".py",
   "mimetype": "text/x-python",
   "name": "python",
   "nbconvert_exporter": "python",
   "pygments_lexer": "ipython3",
   "version": "3.12.4"
  }
 },
 "nbformat": 4,
 "nbformat_minor": 5
}
