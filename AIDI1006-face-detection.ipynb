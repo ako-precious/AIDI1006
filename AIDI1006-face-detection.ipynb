{
 "cells": [
  {
   "cell_type": "code",
   "execution_count": 4,
   "id": "9d3ba9ac",
   "metadata": {},
   "outputs": [
    {
     "name": "stdout",
     "output_type": "stream",
     "text": [
      "{\"error\": {\"code\": \"InvalidRequest\", \"message\": \"Invalid request has been sent.\", \"innererror\": {\"code\": \"UnsupportedFeature\", \"message\": \"Feature is not supported, missing approval for one or more of the following features: Identification,Verification. Please apply for access at https://aka.ms/facerecognition\"}}}\n"
     ]
    }
   ],
   "source": [
    "import json, os, requests\n",
    "\n",
    "subscription_key = \"CaO4LWv7JtB52QaaCJe53bgB5M5w7J0J6beR7hLSY9mhINsQdYGKJQQJ99AKACYeBjFXJ3w3AAAKACOGrO7m\"\n",
    "face_api_url = \"https://facedecector.cognitiveservices.azure.com/\" + '/face/v1.0/detect'\n",
    "\n",
    "image_url = 'https://cdn.i-scmp.com/sites/default/files/d8/images/canvas/2023/11/07/b8a6e3e7-3a43-4848-a5aa-b282fff160a9_07c99f1e.jpg' \n",
    "\n",
    "headers = {'Ocp-Apim-Subscription-Key': subscription_key}\n",
    "\n",
    "params = {\n",
    "    'detectionModel': 'detection_03',\n",
    "    'returnFaceId': 'true'\n",
    "}\n",
    "\n",
    "response = requests.post(face_api_url, params=params,\n",
    "                         headers=headers, json={\"url\": image_url})\n",
    "print(json.dumps(response.json()))"
   ]
  },
  {
   "cell_type": "code",
   "execution_count": null,
   "id": "4e521d00",
   "metadata": {},
   "outputs": [],
   "source": []
  }
 ],
 "metadata": {
  "kernelspec": {
   "display_name": "base",
   "language": "python",
   "name": "python3"
  },
  "language_info": {
   "codemirror_mode": {
    "name": "ipython",
    "version": 3
   },
   "file_extension": ".py",
   "mimetype": "text/x-python",
   "name": "python",
   "nbconvert_exporter": "python",
   "pygments_lexer": "ipython3",
   "version": "3.12.4"
  }
 },
 "nbformat": 4,
 "nbformat_minor": 5
}
