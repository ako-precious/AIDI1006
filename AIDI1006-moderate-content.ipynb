{
 "cells": [
  {
   "cell_type": "code",
   "execution_count": 1,
   "id": "f79e6320",
   "metadata": {},
   "outputs": [
    {
     "name": "stdout",
     "output_type": "stream",
     "text": [
      "===== Detect Adult or Racy Content - local =====\n",
      "Analyzing local image for adult or racy content ... \n",
      "Is adult content: False with confidence 9.16\n",
      "Has racy content: True with confidence 96.98\n",
      "\n",
      "===== Detect Adult or Racy Content - remote =====\n",
      "Analyzing remote image for adult or racy content ... \n",
      "Is adult content: False with confidence 1.74\n",
      "Has racy content: False with confidence 68.11\n",
      "\n"
     ]
    }
   ],
   "source": [
    "from azure.cognitiveservices.vision.computervision import ComputerVisionClient\n",
    "from azure.cognitiveservices.vision.computervision.models import OperationStatusCodes\n",
    "from azure.cognitiveservices.vision.computervision.models import VisualFeatureTypes\n",
    "from msrest.authentication import CognitiveServicesCredentials\n",
    "\n",
    "from array import array\n",
    "import os\n",
    "from PIL import Image\n",
    "import sys\n",
    "import time\n",
    "\n",
    "subscription_key = \"2cemQSrvr2KlcNyqBJHoj1CmxYn7aiX2wwtv6JcBtTon8Gi5KfQ4JQQJ99AKACYeBjFXJ3w3AAAFACOG0w7R\"\n",
    "endpoint = \"https://computersvission.cognitiveservices.azure.com/\"\n",
    "\n",
    "computervision_client = ComputerVisionClient(endpoint, CognitiveServicesCredentials(subscription_key))\n",
    "\n",
    "local_image_path = \"C:\\\\Users\\\\akopr\\\\OneDrive\\\\Documents\\\\codes\\\\python\\\\AIDI1006\\\\images\\\\kim.jpg\"\n",
    "remote_image_url = \"https://earlybirdcatchestheworm.files.wordpress.com/2015/08/cosmo-september-15-demi-lovato-newsstand.jpg\"\n",
    "\n",
    "'''\n",
    "Detect Adult or Racy Content - local\n",
    "This example detects adult or racy content in a local image, then prints the adult/racy score.\n",
    "The score is ranged 0.0 - 1.0 with smaller numbers indicating negative results.\n",
    "'''\n",
    "print(\"===== Detect Adult or Racy Content - local =====\")\n",
    "# Open local file\n",
    "local_image = open(local_image_path, \"rb\")\n",
    "# Select visual features you want\n",
    "local_image_features = [\"adult\"]\n",
    "# Call API with local image and features\n",
    "detect_adult_results_local = computervision_client.analyze_image_in_stream(local_image, local_image_features)\n",
    "\n",
    "# Print results with adult/racy score\n",
    "print(\"Analyzing local image for adult or racy content ... \")\n",
    "print(\"Is adult content: {} with confidence {:.2f}\".format(detect_adult_results_local .adult.is_adult_content, detect_adult_results_local .adult.adult_score * 100))\n",
    "print(\"Has racy content: {} with confidence {:.2f}\".format(detect_adult_results_local .adult.is_racy_content, detect_adult_results_local .adult.racy_score * 100))\n",
    "print()\n",
    "# END - Detect Adult or Racy Content - local\n",
    "\n",
    "\n",
    "'''\n",
    "Detect Adult or Racy Content - remote\n",
    "This example detects adult or racy content in a remote image, then prints the adult/racy score.\n",
    "The score is ranged 0.0 - 1.0 with smaller numbers indicating negative results.\n",
    "'''\n",
    "print(\"===== Detect Adult or Racy Content - remote =====\")\n",
    "# Select the visual feature(s) you want\n",
    "remote_image_features = [\"adult\"]\n",
    "# Call API with URL and features\n",
    "detect_adult_results_remote = computervision_client.analyze_image(remote_image_url, remote_image_features)\n",
    "\n",
    "# Print results with adult/racy score\n",
    "print(\"Analyzing remote image for adult or racy content ... \")\n",
    "print(\"Is adult content: {} with confidence {:.2f}\".format(detect_adult_results_remote.adult.is_adult_content, detect_adult_results_remote.adult.adult_score * 100))\n",
    "print(\"Has racy content: {} with confidence {:.2f}\".format(detect_adult_results_remote.adult.is_racy_content, detect_adult_results_remote.adult.racy_score * 100))\n",
    "# </snippet_adult>\n",
    "print()\n",
    "# END - Detect Adult or Racy Content - remote\n",
    "\n",
    "\n"
   ]
  },
  {
   "cell_type": "code",
   "execution_count": null,
   "id": "0fa6f3e6",
   "metadata": {},
   "outputs": [],
   "source": []
  }
 ],
 "metadata": {
  "kernelspec": {
   "display_name": "base",
   "language": "python",
   "name": "python3"
  },
  "language_info": {
   "codemirror_mode": {
    "name": "ipython",
    "version": 3
   },
   "file_extension": ".py",
   "mimetype": "text/x-python",
   "name": "python",
   "nbconvert_exporter": "python",
   "pygments_lexer": "ipython3",
   "version": "3.12.4"
  }
 },
 "nbformat": 4,
 "nbformat_minor": 5
}
