{
 "cells": [
  {
   "cell_type": "code",
   "execution_count": 4,
   "id": "a17bd262",
   "metadata": {},
   "outputs": [
    {
     "name": "stdout",
     "output_type": "stream",
     "text": [
      "Requirement already satisfied: azure-cognitiveservices-speech in c:\\users\\akopr\\anaconda3\\lib\\site-packages (1.41.1)\n"
     ]
    }
   ],
   "source": [
    "# AIDI1006-text-to-speech.ipynb v.2023\n",
    "# Sample code 1 - using Azure AI / Cognitive Services / Speech\n",
    "# More code samples at https://github.com/Azure-Samples/cognitive-services-speech-sdk\n",
    "\n",
    "!pip install azure-cognitiveservices-speech"
   ]
  },
  {
   "cell_type": "code",
   "execution_count": 6,
   "id": "7d068e66",
   "metadata": {},
   "outputs": [
    {
     "name": "stdout",
     "output_type": "stream",
     "text": [
      "Type some text that you want to speak...\n",
      "Speech synthesized to speaker for text [woo you make me live]\n"
     ]
    }
   ],
   "source": [
    "import azure.cognitiveservices.speech as speechsdk\n",
    "speech_key, service_region = \"9KbjDvkvnN56wkT5Jkuehj6WMQStNU5eGWumhwrbTdeZhVJOFDboJQQJ99AKACYeBjFXJ3w3AAAYACOGdpFy\", \"eastus\"\n",
    "speech_config = speechsdk.SpeechConfig(subscription=speech_key, region=service_region)\n",
    "speech_synthesizer = speechsdk.SpeechSynthesizer(speech_config=speech_config)\n",
    "print(\"Type some text that you want to speak...\")\n",
    "text = input()\n",
    "result = speech_synthesizer.speak_text_async(text).get()\n",
    "if result.reason == speechsdk.ResultReason.SynthesizingAudioCompleted:\n",
    "    print(\"Speech synthesized to speaker for text [{}]\".format(text))\n",
    "elif result.reason == speechsdk.ResultReason.Canceled:\n",
    "    cancellation_details = result.cancellation_details\n",
    "    print(\"Speech synthesis canceled: {}\".format(cancellation_details.reason))\n",
    "    if cancellation_details.reason == speechsdk.CancellationReason.Error:\n",
    "        if cancellation_details.error_details:\n",
    "            print(\"Error details: {}\".format(cancellation_details.error_details))\n",
    "    print(\"Did you update the subscription info?\")"
   ]
  },
  {
   "cell_type": "code",
   "execution_count": null,
   "id": "20bbe341",
   "metadata": {},
   "outputs": [],
   "source": []
  }
 ],
 "metadata": {
  "kernelspec": {
   "display_name": "base",
   "language": "python",
   "name": "python3"
  },
  "language_info": {
   "codemirror_mode": {
    "name": "ipython",
    "version": 3
   },
   "file_extension": ".py",
   "mimetype": "text/x-python",
   "name": "python",
   "nbconvert_exporter": "python",
   "pygments_lexer": "ipython3",
   "version": "3.12.4"
  }
 },
 "nbformat": 4,
 "nbformat_minor": 5
}
